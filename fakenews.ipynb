{
  "nbformat": 4,
  "nbformat_minor": 0,
  "metadata": {
    "colab": {
      "provenance": [],
      "authorship_tag": "ABX9TyNY++EjZ0VYsYIFgt+cnCxt",
      "include_colab_link": true
    },
    "kernelspec": {
      "name": "python3",
      "display_name": "Python 3"
    },
    "language_info": {
      "name": "python"
    }
  },
  "cells": [
    {
      "cell_type": "markdown",
      "metadata": {
        "id": "view-in-github",
        "colab_type": "text"
      },
      "source": [
        "<a href=\"https://colab.research.google.com/github/paulosenra/projeto_fakenews/blob/main/fakenews.ipynb\" target=\"_parent\"><img src=\"https://colab.research.google.com/assets/colab-badge.svg\" alt=\"Open In Colab\"/></a>"
      ]
    },
    {
      "cell_type": "code",
      "execution_count": null,
      "metadata": {
        "id": "BbIk3XlHyJE6"
      },
      "outputs": [],
      "source": [
        "\n",
        "import requests\n",
        "from bs4 import BeautifulSoup\n",
        "import google.generativeai as genai\n",
        "from google.colab import userdata\n",
        "\n",
        "# Obtenha sua API Key do Google Generative AI\n",
        "api_key = userdata.get('secret_key')\n",
        "\n",
        "# Configurações do Google Generative AI\n",
        "genai.configure(api_key=api_key)\n",
        "\n",
        "# Configuração do Modelo\n",
        "generation_config = {\n",
        "    \"candidate_count\": 1,\n",
        "    \"temperature\": 0.5,\n",
        "}\n",
        "safety_settings = {\n",
        "    \"HATE\": \"BLOCK_NONE\",\n",
        "    \"HARASSMENT\": \"BLOCK_NONE\",\n",
        "    \"SEXUAL\": \"BLOCK_NONE\",\n",
        "    \"DANGEROUS\": \"BLOCK_NONE\",\n",
        "}\n",
        "\n",
        "def verificar_noticia(noticia):\n",
        "    # Lista de fontes confiáveis\n",
        "    fontes_confiaveis = [\n",
        "        \"https://g1.globo.com/\",\n",
        "        \"https://www.cnnbrasil.com.br/\",\n",
        "        \"https://www.bbc.com/portuguese\"\n",
        "    ]\n",
        "\n",
        "    # Usar o modelo Generative AI para analisar a notícia\n",
        "    model = genai.GenerativeModel(\n",
        "        model_name=\"gemini-pro\",\n",
        "        generation_config=generation_config,\n",
        "        safety_settings=safety_settings,\n",
        "    )\n",
        "    chat = model.start_chat(history=[])\n",
        "    response = chat.send_message(f\"Analise a veracidade da seguinte notícia: {noticia}\")\n",
        "    analise_ai = response.text\n",
        "\n",
        "    # Busca por notícias relacionadas em fontes confiáveis\n",
        "    noticias_encontradas = []\n",
        "    for fonte in fontes_confiaveis:\n",
        "        url = fonte + \"/busca/?q=\" + noticia\n",
        "        resposta = requests.get(url)\n",
        "        if resposta.status_code == 200:\n",
        "            soup = BeautifulSoup(resposta.text, 'html.parser')\n",
        "\n",
        "            if fonte == \"https://g1.globo.com/\":\n",
        "                links = soup.select('.bastian-page .feed-post-link a')\n",
        "                for link in links:\n",
        "                    noticias_encontradas.append(link['href'])\n",
        "\n",
        "            elif fonte == \"https://www.cnnbrasil.com.br/\":\n",
        "                links = soup.select('.home--search__list a')\n",
        "                for link in links:\n",
        "                    noticias_encontradas.append(link['href'])\n",
        "\n",
        "            elif fonte == \"https://www.bbc.com/portuguese\":\n",
        "                links = soup.select('.hard-news-media__summary a')\n",
        "                for link in links:\n",
        "                    noticias_encontradas.append(\"https://www.bbc.com\" + link['href'])\n",
        "\n",
        "    if noticias_encontradas:\n",
        "        return f\"Análise do Google Gemini: {analise_ai}\\n\\nEncontrei as seguintes notícias relacionadas em fontes confiáveis:\\n{chr(10).join(noticias_encontradas)}\"\n",
        "    else:\n",
        "        return f\"Análise do Google Gemini: {analise_ai}\\n\\nNão encontrei informações sobre essa notícia em fontes confiáveis. Recomendo que você verifique a fonte da informação e busque por outras fontes confiáveis.\"\n",
        "\n",
        "# Exemplo de uso\n",
        "noticia = input(\"Digite a notícia que você quer verificar: \")\n",
        "resultado = verificar_noticia(noticia)\n",
        "print(resultado)\n",
        "\n",
        "# Loop para usar o código várias vezes\n",
        "while True:\n",
        "    noticia = input(\"Digite a notícia que você quer verificar (ou 'fim' para sair): \")\n",
        "    if noticia.lower() == \"fim\":\n",
        "        break\n",
        "    resultado = verificar_noticia(noticia)\n",
        "    print(resultado)"
      ]
    }
  ]
}